{
  "nbformat": 4,
  "nbformat_minor": 0,
  "metadata": {
    "colab": {
      "name": "sprawozdanie.ipynb",
      "provenance": [],
      "collapsed_sections": []
    },
    "kernelspec": {
      "name": "python3",
      "display_name": "Python 3"
    }
  },
  "cells": [
    {
      "cell_type": "markdown",
      "metadata": {
        "id": "5PRtXxkR-ZMo",
        "colab_type": "text"
      },
      "source": [
        "#**Sprawozdanie z laboratorium**\n",
        "**Autorzy**- *Agnieszka Bronk, Julia Chmaj, Katarzyna Młodzińska*\n",
        ">\n",
        "\n",
        "### **Temat projektu** - *Analiza sentymentu* \n",
        ">\n",
        ">\n",
        ">\n",
        "\n",
        ">Naszym zadaniem było znalezienie danych, potrzebnych do wykonania analizy sentymentu, odpowiednie przygotowanie ich do analizy oraz stworzenie odpowiedniego modelu. \n",
        "\n",
        ">W skrócie - wykonanie analizy sentymentu polega na stworzeniu modelu, który będzie potrafił rozpoznać czy dana opinia o filmie (w naszym przypadku) ma sentyment pozytywny czy negatywny."
      ]
    },
    {
      "cell_type": "markdown",
      "metadata": {
        "id": "wNeqdmxEcShZ",
        "colab_type": "text"
      },
      "source": [
        "##Dane i źródło\n",
        "\n",
        "Nasze dane uzyskałyśmy ze strony: https://towardsdatascience.com/sentiment-analysis-with-deep-learning-62d4d0166ef6\n",
        "\n",
        "Przedstawiają recenzje z portalu Netflix, podzielone na negatywne i pozytywne. \n",
        "W każdym pliku jest po 5000 recenzji."
      ]
    },
    {
      "cell_type": "markdown",
      "metadata": {
        "id": "0jBfFeRw-w1g",
        "colab_type": "text"
      },
      "source": [
        "Na początku instalujemy podstawowe  pakiety niezbędne do stworzenia sieci. Aby praca była łatwiejsza dokonujemy eksploracyjnej analizy danych. Tworzymy wykresy, aby zilustrować rozłożenie i strukturę danych.\n",
        "\n",
        "## Praca z danymi\n",
        "\n",
        "Przed złączeniem i oczyszczeniem danych dodajemy do nich odpowiednie etykiety, tzn. dla danych o pozytywnym sentymencie dodajemy etykietę 1, natomiast dla negatywnych 0. \n",
        "\n",
        "Po wstępnej analizie przechodzimy do oczyszczania danych, w tym sprowadzenia ich do uproszczonej formy. \n",
        "Usuwamy zatem wszelkie znaki interpunkcyjne, duże litery sprowadzamy do małych itp. W tym celu używamy (własnych) funkcji oraz  takich narzędzi jak Tokenizer, Lemmatizer oraz Stemmer z biblioteki NLTK.\n",
        "\n",
        "Mieszamy następnie dane i zamieniamy je na wektory, które będą wczytywane przez model. Dokonujemy również podziału na zbiory treningowe, testowe jak i walidacyjne.\n",
        "\n",
        "##Model\n",
        "Sieć neuronowa, która będzie uczyć się na naszym modelu to sieć LSTM o  rekurencyjnej architekturze. \n",
        "Uczymy oraz testujemy nasz model na stworzonych zbiorach. \n",
        "Model osiągnął dokładność równą 51% dla 3 epok oraz blisko 70% dla funkcji straty.\n",
        "Wnioskujemy stąd, że model niczego sie nie nauczył. Można założyć, że jego działanie sprowadza się do losowego przyporządkowania sentymentu."
      ]
    },
    {
      "cell_type": "markdown",
      "metadata": {
        "id": "ng94n1zQifB6",
        "colab_type": "text"
      },
      "source": [
        "##Linki:\n",
        "\n",
        "https://medium.com/@saad.arshad102/sentiment-analysis-text-classification-using-rnn-bi-lstm-recurrent-neural-network-81086dda8472\n",
        "\n",
        "https://keras.io/examples/imdb_lstm/?fbclid=IwAR0WPdcgvGIsQk8qkzgyNfIkixjQWpm5sneybwhzoZNM2ooL_8HVKvPADK4\n",
        "\n",
        "https://towardsdatascience.com/a-beginners-guide-on-sentiment-analysis-with-rnn-9e100627c02e"
      ]
    }
  ]
}